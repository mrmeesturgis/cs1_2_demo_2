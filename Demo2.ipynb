{
 "cells": [
  {
   "cell_type": "markdown",
   "id": "d8bba665",
   "metadata": {},
   "source": [
    "<img src=\"https://www.sturgischarterschool.com/wp-content/uploads/2019/06/sturgisheader_logo.png\" alt=\"sturgis\" width=\"250\" align=\"right\"/>\n",
    "\n",
    "## Computer Science 'Demo2' notebook 1\n",
    "### Sturgis Charter Public School \n",
    "\n"
   ]
  },
  {
   "cell_type": "markdown",
   "id": "16bf0839",
   "metadata": {},
   "source": [
    "### Learning Objectives for notebook \n",
    "* More practice with methods\n",
    "* [String Methods](https://www.w3schools.com/python/python_ref_string.asp)"
   ]
  },
  {
   "cell_type": "code",
   "execution_count": null,
   "id": "fb3eb272",
   "metadata": {},
   "outputs": [],
   "source": [
    "string = \"I think that Spikeball is an excellent sport, worthy of great consideration.\""
   ]
  },
  {
   "cell_type": "code",
   "execution_count": null,
   "id": "51695fbb",
   "metadata": {},
   "outputs": [],
   "source": [
    "print(string.capitalize())"
   ]
  },
  {
   "cell_type": "code",
   "execution_count": null,
   "id": "2a0c9936",
   "metadata": {},
   "outputs": [],
   "source": [
    "print(string.casefold())"
   ]
  },
  {
   "cell_type": "code",
   "execution_count": null,
   "id": "2fe4020c",
   "metadata": {},
   "outputs": [],
   "source": [
    "print(string.endswith('.'))"
   ]
  },
  {
   "cell_type": "code",
   "execution_count": null,
   "id": "805a4d1e",
   "metadata": {},
   "outputs": [],
   "source": [
    "print(string.endswith('I'))"
   ]
  },
  {
   "cell_type": "code",
   "execution_count": null,
   "id": "fd7141a7",
   "metadata": {},
   "outputs": [],
   "source": [
    "print(string.find('S'))"
   ]
  },
  {
   "cell_type": "code",
   "execution_count": null,
   "id": "336b460c",
   "metadata": {},
   "outputs": [],
   "source": [
    "print(string.islower())"
   ]
  },
  {
   "cell_type": "code",
   "execution_count": null,
   "id": "9731899d",
   "metadata": {},
   "outputs": [],
   "source": [
    "s2 = string.casefold()\n",
    "print(s2.islower())"
   ]
  },
  {
   "cell_type": "code",
   "execution_count": null,
   "id": "143de1f3",
   "metadata": {},
   "outputs": [],
   "source": [
    "s2 = s2.upper()\n",
    "print(s2)\n",
    "print(s2.isupper())"
   ]
  },
  {
   "cell_type": "code",
   "execution_count": null,
   "id": "53867e3e",
   "metadata": {},
   "outputs": [],
   "source": [
    "print(s2.islower())"
   ]
  },
  {
   "cell_type": "code",
   "execution_count": null,
   "id": "1d56258e",
   "metadata": {},
   "outputs": [],
   "source": [
    "print(string.partition(\"Spikeball\"))"
   ]
  },
  {
   "cell_type": "code",
   "execution_count": null,
   "id": "0d8b747a",
   "metadata": {},
   "outputs": [],
   "source": [
    "print(string.strip(',.'))"
   ]
  },
  {
   "cell_type": "code",
   "execution_count": null,
   "id": "24ad9975",
   "metadata": {},
   "outputs": [],
   "source": [
    "s2 = s2.split()\n",
    "print(s2)"
   ]
  },
  {
   "cell_type": "code",
   "execution_count": null,
   "id": "bc97f1d2",
   "metadata": {},
   "outputs": [],
   "source": [
    "\"#\".join(s2)"
   ]
  },
  {
   "cell_type": "code",
   "execution_count": null,
   "id": "24c39ccd",
   "metadata": {},
   "outputs": [],
   "source": []
  }
 ],
 "metadata": {
  "kernelspec": {
   "display_name": "Python 3 (ipykernel)",
   "language": "python",
   "name": "python3"
  },
  "language_info": {
   "codemirror_mode": {
    "name": "ipython",
    "version": 3
   },
   "file_extension": ".py",
   "mimetype": "text/x-python",
   "name": "python",
   "nbconvert_exporter": "python",
   "pygments_lexer": "ipython3",
   "version": "3.9.7"
  }
 },
 "nbformat": 4,
 "nbformat_minor": 5
}
